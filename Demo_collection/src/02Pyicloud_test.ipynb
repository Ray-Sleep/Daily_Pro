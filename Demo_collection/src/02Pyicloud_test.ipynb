{
 "cells": [
  {
   "cell_type": "code",
   "execution_count": null,
   "metadata": {
    "collapsed": true,
    "pycharm": {
     "is_executing": true
    }
   },
   "outputs": [],
   "source": [
    "import sys\n",
    "from pyicloud import PyiCloudService\n",
    "\n",
    "\n",
    "def login_icloud(apple_id, password):\n",
    "    api = PyiCloudService(apple_id, password,china_mainland=True)\n",
    "\n",
    "    if api.requires_2fa:\n",
    "        print(\"Two-factor authentication required.\")\n",
    "        code = input(\"Enter the code you received of one of your approved devices: \")\n",
    "        result = api.validate_2fa_code(code)\n",
    "        print(\"Code validation result: %s\" % result)\n",
    "\n",
    "        if not result:\n",
    "            print(\"Failed to verify security code\")\n",
    "            sys.exit(1)\n",
    "\n",
    "        if not api.is_trusted_session:\n",
    "            print(\"Session is not trusted. Requesting trust...\")\n",
    "            result = api.trust_session()\n",
    "            print(\"Session trust result %s\" % result)\n",
    "\n",
    "            if not result:\n",
    "                print(\"Failed to request trust. You will likely be prompted for the code again in the coming weeks\")\n",
    "    elif api.requires_2sa:\n",
    "        import click\n",
    "        print(\"Two-step authentication required. Your trusted devices are:\")\n",
    "\n",
    "        devices = api.trusted_devices\n",
    "        for i, device in enumerate(devices):\n",
    "            print(\n",
    "                \"  %s: %s\" % (i, device.get('deviceName',\n",
    "                                            \"SMS to %s\" % device.get('phoneNumber')))\n",
    "            )\n",
    "\n",
    "        device = click.prompt('Which device would you like to use?', default=0)\n",
    "        device = devices[device]\n",
    "        if not api.send_verification_code(device):\n",
    "            print(\"Failed to send verification code\")\n",
    "            sys.exit(1)\n",
    "\n",
    "        code = click.prompt('Please enter validation code')\n",
    "        if not api.validate_verification_code(device, code):\n",
    "            print(\"Failed to verify verification code\")\n",
    "            sys.exit(1)\n",
    "\n",
    "    return api\n",
    "\n",
    "api = login_icloud('2511248339@qq.com','030806lSr')"
   ]
  }
 ],
 "metadata": {
  "kernelspec": {
   "display_name": "Python 3",
   "language": "python",
   "name": "python3"
  },
  "language_info": {
   "codemirror_mode": {
    "name": "ipython",
    "version": 2
   },
   "file_extension": ".py",
   "mimetype": "text/x-python",
   "name": "python",
   "nbconvert_exporter": "python",
   "pygments_lexer": "ipython2",
   "version": "2.7.6"
  }
 },
 "nbformat": 4,
 "nbformat_minor": 0
}
