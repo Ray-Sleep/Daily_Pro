{
 "cells": [
  {
   "cell_type": "code",
   "execution_count": 8,
   "metadata": {
    "collapsed": true,
    "pycharm": {
     "name": "#%%\n"
    }
   },
   "outputs": [
    {
     "name": "stderr",
     "output_type": "stream",
     "text": [
      "'you_get' 不是内部或外部命令，也不是可运行的程序\n",
      "或批处理文件。\n"
     ]
    }
   ],
   "source": [
    "# -*- coding: UTF-8 -*-\n",
    "\"\"\"\n",
    "@Project :Daily_Pro\n",
    "@File    :03generate_qrcode.py\n",
    "@Author  :李睡睡 主人\n",
    "@Date    :2022/9/19 21:41\n",
    "@Scripts :you_get\n",
    "@Function:下载网站视频\n",
    "@Tips    :宝剑锋从磨砺出，梅花香自苦寒来。\n",
    "\"\"\"\n",
    "! you_get \"https://www.bilibili.com/video/BV15B4y1G7F3\""
   ]
  }
 ],
 "metadata": {
  "kernelspec": {
   "display_name": "Python 3",
   "language": "python",
   "name": "python3"
  },
  "language_info": {
   "codemirror_mode": {
    "name": "ipython",
    "version": 2
   },
   "file_extension": ".py",
   "mimetype": "text/x-python",
   "name": "python",
   "nbconvert_exporter": "python",
   "pygments_lexer": "ipython2",
   "version": "2.7.6"
  }
 },
 "nbformat": 4,
 "nbformat_minor": 0
}